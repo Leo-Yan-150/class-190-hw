{
 "cells": [
  {
   "cell_type": "code",
   "execution_count": 1,
   "metadata": {},
   "outputs": [],
   "source": [
    "print(\"Name : \")"
   ]
  },
  {
   "cell_type": "code",
   "execution_count": 3,
   "metadata": {},
   "outputs": [
    {
     "name": "stdout",
     "output_type": "stream",
     "text": [
      "     Unnamed: 0  Pregnancies  Glucose  BloodPressure  SkinThickness  Insulin  \\\n",
      "0           177            0      129            110             46      130   \n",
      "1           445            0      180             78             63       14   \n",
      "2           673            3      123            100             35      240   \n",
      "3           125            1       88             30             42       99   \n",
      "4           120            0      162             76             56      100   \n",
      "..          ...          ...      ...            ...            ...      ...   \n",
      "763         426            0       94              0              0        0   \n",
      "764         706           10      115              0              0        0   \n",
      "765         371            0      118             64             23       89   \n",
      "766           9            8      125             96              0        0   \n",
      "767         145            0      102             75             23        0   \n",
      "\n",
      "      BMI  DiabetesPedigreeFunction  Age  Outcome  \n",
      "0    67.1                     0.319   26        1  \n",
      "1    59.4                     2.420   25        1  \n",
      "2    57.3                     0.880   22        0  \n",
      "3    55.0                     0.496   26        1  \n",
      "4    53.2                     0.759   25        1  \n",
      "..    ...                       ...  ...      ...  \n",
      "763   0.0                     0.256   25        0  \n",
      "764   0.0                     0.261   30        1  \n",
      "765   0.0                     1.731   21        0  \n",
      "766   0.0                     0.232   54        1  \n",
      "767   0.0                     0.572   21        0  \n",
      "\n",
      "[768 rows x 10 columns]\n"
     ]
    }
   ],
   "source": [
    "#import the libraries\n",
    "import pandas as pd\n",
    "from matplotlib import pyplot as plt\n",
    "\n",
    "bmi_df = pd.read_csv('bmi.csv')\n",
    "print(bmi_df)\n",
    "\n",
    "#Task 1\n",
    "#Read the bmi.csv\n"
   ]
  },
  {
   "cell_type": "code",
   "execution_count": 3,
   "metadata": {},
   "outputs": [],
   "source": [
    "#Task 2\n",
    "#Data is sorted in descending order in accordance with BMI value\n",
    "#Find the top 5 age group where the BMI value is the highest, and plot a bar graph out of it\n",
    "top_5 = bmi_df.head(5)\n",
    "\n",
    "name = top_5['Age']\n",
    "number = top_5['BMI']\n",
    "\n",
    "plt.xlabel(\"Age\")\n",
    "plt.xticks(rotation='vertical')\n",
    "plt.ylabel(\"BMI\")\n",
    "\n",
    "label = name\n",
    "value = number\n",
    "print(label)\n",
    "print(value)\n",
    "plt.bar(label, value,width=0.4, color=('red','blue','green','pink','yellow'))\n"
   ]
  },
  {
   "cell_type": "code",
   "execution_count": 7,
   "metadata": {},
   "outputs": [
    {
     "name": "stdout",
     "output_type": "stream",
     "text": [
      "     Unnamed: 0  Pregnancies  Glucose  BloodPressure  SkinThickness  Insulin  \\\n",
      "0           347            3      116              0              0        0   \n",
      "1           494            3       80              0              0        0   \n",
      "2           222            7      119              0              0        0   \n",
      "3            81            2       74              0              0        0   \n",
      "4            78            0      131              0              0        0   \n",
      "..          ...          ...      ...            ...            ...      ...   \n",
      "763         549            4      189            110             31        0   \n",
      "764          43            9      171            110             24      240   \n",
      "765         177            0      129            110             46      130   \n",
      "766         691           13      158            114              0        0   \n",
      "767         106            1       96            122              0        0   \n",
      "\n",
      "      BMI  DiabetesPedigreeFunction  Age  Outcome  \n",
      "0    23.5                     0.187   23        0  \n",
      "1     0.0                     0.174   22        0  \n",
      "2    25.2                     0.209   37        0  \n",
      "3     0.0                     0.102   22        0  \n",
      "4    43.2                     0.270   26        1  \n",
      "..    ...                       ...  ...      ...  \n",
      "763  28.5                     0.680   37        0  \n",
      "764  45.4                     0.721   54        1  \n",
      "765  67.1                     0.319   26        1  \n",
      "766  42.3                     0.257   44        1  \n",
      "767  22.4                     0.207   27        0  \n",
      "\n",
      "[768 rows x 10 columns]\n"
     ]
    }
   ],
   "source": [
    "#Task 3\n",
    "#Read blood_pressure.csv\n",
    "\n",
    "bp_df = pd.read_csv('blood_pressure.csv')\n",
    "print(bp_df)"
   ]
  },
  {
   "cell_type": "code",
   "execution_count": 16,
   "metadata": {},
   "outputs": [
    {
     "name": "stdout",
     "output_type": "stream",
     "text": [
      "     Unnamed: 0  Pregnancies  Glucose  BloodPressure  SkinThickness  Insulin  \\\n",
      "763         549            4      189            110             31        0   \n",
      "764          43            9      171            110             24      240   \n",
      "765         177            0      129            110             46      130   \n",
      "766         691           13      158            114              0        0   \n",
      "767         106            1       96            122              0        0   \n",
      "\n",
      "      BMI  DiabetesPedigreeFunction  Age  Outcome  \n",
      "763  28.5                     0.680   37        0  \n",
      "764  45.4                     0.721   54        1  \n",
      "765  67.1                     0.319   26        1  \n",
      "766  42.3                     0.257   44        1  \n",
      "767  22.4                     0.207   27        0  \n",
      "0    23\n",
      "1    22\n",
      "2    37\n",
      "3    22\n",
      "4    26\n",
      "Name: Age, dtype: int64\n",
      "0    0\n",
      "1    0\n",
      "2    0\n",
      "3    0\n",
      "4    0\n",
      "Name: BloodPressure, dtype: int64\n"
     ]
    },
    {
     "data": {
      "text/plain": [
       "<BarContainer object of 5 artists>"
      ]
     },
     "execution_count": 16,
     "metadata": {},
     "output_type": "execute_result"
    },
    {
     "data": {
      "image/png": "[encoded data removed]",
      "text/plain": [
       "<Figure size 432x288 with 1 Axes>"
      ]
     },
     "metadata": {
      "needs_background": "light"
     },
     "output_type": "display_data"
    }
   ],
   "source": [
    "#Task 4\n",
    "#Data is sorted in ascending order in accordance with Blood Pressure\n",
    "#Find the top 5 age group where the BloodPressure value is the highest, and plot a bar graph out of it\n",
    "\n",
    "top_5bp = bp_df.tail(5)\n",
    "print(top_5bp)\n",
    "\n",
    "namee = top_5bp['Age']\n",
    "numberr = top_5bp['BMI']\n",
    "\n",
    "plt.xlabel(\"Age\")\n",
    "plt.xticks(rotation='vertical')\n",
    "plt.ylabel(\"Blood Pressure\")\n",
    "\n",
    "labele = namee\n",
    "valuee = numberr\n",
    "print(label)\n",
    "print(value)\n",
    "plt.bar(labele, valuee,width=0.4, color=('red','blue','green','pink','yellow'))"
   ]
  },
  {
   "cell_type": "code",
   "execution_count": 13,
   "metadata": {},
   "outputs": [
    {
     "name": "stdout",
     "output_type": "stream",
     "text": [
      "     Unnamed: 0  Pregnancies  Glucose  BloodPressure  SkinThickness  Insulin  \\\n",
      "0            13            1      189             60             23      846   \n",
      "1           228            4      197             70             39      744   \n",
      "2           247            0      165             90             33      680   \n",
      "3           584            8      124             76             24      600   \n",
      "4           409            1      172             68             49      579   \n",
      "..          ...          ...      ...            ...            ...      ...   \n",
      "763         218            5       85             74             22        0   \n",
      "764           5            5      116             74              0        0   \n",
      "765         598            1      173             74              0        0   \n",
      "766         761            9      170             74             31        0   \n",
      "767         266            0      138              0              0        0   \n",
      "\n",
      "      BMI  DiabetesPedigreeFunction  Age  Outcome  \n",
      "0    30.1                     0.398   59        1  \n",
      "1    36.7                     2.329   31        0  \n",
      "2    52.3                     0.427   23        0  \n",
      "3    28.7                     0.687   52        1  \n",
      "4    42.4                     0.702   28        1  \n",
      "..    ...                       ...  ...      ...  \n",
      "763  29.0                     1.224   32        1  \n",
      "764  25.6                     0.201   30        0  \n",
      "765  36.8                     0.088   38        1  \n",
      "766  44.0                     0.403   43        1  \n",
      "767  36.3                     0.933   25        1  \n",
      "\n",
      "[768 rows x 10 columns]\n"
     ]
    }
   ],
   "source": [
    "#Task 5\n",
    "#Read the insulin.csv\n",
    "\n",
    "ins_df = pd.read_csv('insulin.csv')\n",
    "print(ins_df)"
   ]
  },
  {
   "cell_type": "code",
   "execution_count": 18,
   "metadata": {},
   "outputs": [
    {
     "name": "stdout",
     "output_type": "stream",
     "text": [
      "0    23\n",
      "1    22\n",
      "2    37\n",
      "3    22\n",
      "4    26\n",
      "Name: Age, dtype: int64\n",
      "0    0\n",
      "1    0\n",
      "2    0\n",
      "3    0\n",
      "4    0\n",
      "Name: BloodPressure, dtype: int64\n"
     ]
    },
    {
     "data": {
      "text/plain": [
       "<BarContainer object of 1 artists>"
      ]
     },
     "execution_count": 18,
     "metadata": {},
     "output_type": "execute_result"
    },
    {
     "data": {
      "image/png": "[encoded data removed]",
      "text/plain": [
       "<Figure size 432x288 with 1 Axes>"
      ]
     },
     "metadata": {
      "needs_background": "light"
     },
     "output_type": "display_data"
    }
   ],
   "source": [
    "#Task 6\n",
    "#Data is sorted in descending order in accordance with Insulin value\n",
    "#Find out what will be the Glucose and BMI value when the Insulin is highest\n",
    "top_1 = ins_df.head(1)\n",
    "\n",
    "namee = top_1['Glucose']\n",
    "numberr = top_1['BMI']\n",
    "\n",
    "plt.xlabel(\"When Insulin is hightest Glucose is\")\n",
    "plt.xticks(rotation='vertical')\n",
    "plt.ylabel(\"When Insulin is highest BMI is\")\n",
    "\n",
    "labele = namee\n",
    "valuee = numberr\n",
    "print(label)\n",
    "print(value)\n",
    "plt.bar(labele, valuee,width=0.4, color=('red'))\n"
   ]
  },
  {
   "cell_type": "code",
   "execution_count": null,
   "metadata": {},
   "outputs": [],
   "source": []
  },
  {
   "cell_type": "code",
   "execution_count": null,
   "metadata": {},
   "outputs": [],
   "source": []
  }
 ],
 "metadata": {
  "kernelspec": {
   "display_name": "Python 3 (ipykernel)",
   "language": "python",
   "name": "python3"
  },
  "language_info": {
   "codemirror_mode": {
    "name": "ipython",
    "version": 3
   },
   "file_extension": ".py",
   "mimetype": "text/x-python",
   "name": "python",
   "nbconvert_exporter": "python",
   "pygments_lexer": "ipython3",
   "version": "3.9.7"
  }
 },
 "nbformat": 4,
 "nbformat_minor": 4
}
